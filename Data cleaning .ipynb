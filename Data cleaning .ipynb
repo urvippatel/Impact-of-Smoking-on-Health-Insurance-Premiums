{
 "cells": [
  {
   "cell_type": "markdown",
   "id": "2207b01d-b4fd-4452-866a-967fc480505f",
   "metadata": {},
   "source": [
    "# Importing Libraries"
   ]
  },
  {
   "cell_type": "code",
   "execution_count": 4,
   "id": "5fa853d3-82b2-4059-907f-2429333bb496",
   "metadata": {},
   "outputs": [],
   "source": [
    "import pandas as pd\n",
    "import numpy as np\n",
    "import os"
   ]
  },
  {
   "cell_type": "markdown",
   "id": "4c087e43-bad2-4ebe-b1fa-bc0a165ff621",
   "metadata": {},
   "source": [
    "# Importing Dataset"
   ]
  },
  {
   "cell_type": "code",
   "execution_count": 7,
   "id": "acd42e06-0f12-4d4d-afe2-afea4f3e7026",
   "metadata": {},
   "outputs": [
    {
     "data": {
      "text/plain": [
       "'/Users/urvi/Desktop/ACHIVEMENT 6/02 Data /Original Data'"
      ]
     },
     "execution_count": 7,
     "metadata": {},
     "output_type": "execute_result"
    }
   ],
   "source": [
    "path=r'/Users/urvi/Desktop/ACHIVEMENT 6/02 Data /Original Data'\n",
    "path"
   ]
  },
  {
   "cell_type": "code",
   "execution_count": 10,
   "id": "7bd2702a-ed44-4b6c-b648-523833ce058f",
   "metadata": {},
   "outputs": [],
   "source": [
    "df_insurance= pd.read_csv(os.path.join(path,'insurance.csv'))"
   ]
  },
  {
   "cell_type": "code",
   "execution_count": 13,
   "id": "c762e7f7-5b3b-42a1-986e-e887053169e9",
   "metadata": {},
   "outputs": [
    {
     "data": {
      "text/html": [
       "<div>\n",
       "<style scoped>\n",
       "    .dataframe tbody tr th:only-of-type {\n",
       "        vertical-align: middle;\n",
       "    }\n",
       "\n",
       "    .dataframe tbody tr th {\n",
       "        vertical-align: top;\n",
       "    }\n",
       "\n",
       "    .dataframe thead th {\n",
       "        text-align: right;\n",
       "    }\n",
       "</style>\n",
       "<table border=\"1\" class=\"dataframe\">\n",
       "  <thead>\n",
       "    <tr style=\"text-align: right;\">\n",
       "      <th></th>\n",
       "      <th>age</th>\n",
       "      <th>sex</th>\n",
       "      <th>bmi</th>\n",
       "      <th>children</th>\n",
       "      <th>smoker</th>\n",
       "      <th>region</th>\n",
       "      <th>charges</th>\n",
       "    </tr>\n",
       "  </thead>\n",
       "  <tbody>\n",
       "    <tr>\n",
       "      <th>0</th>\n",
       "      <td>19</td>\n",
       "      <td>female</td>\n",
       "      <td>27.900</td>\n",
       "      <td>0</td>\n",
       "      <td>yes</td>\n",
       "      <td>southwest</td>\n",
       "      <td>16884.92400</td>\n",
       "    </tr>\n",
       "    <tr>\n",
       "      <th>1</th>\n",
       "      <td>18</td>\n",
       "      <td>male</td>\n",
       "      <td>33.770</td>\n",
       "      <td>1</td>\n",
       "      <td>no</td>\n",
       "      <td>southeast</td>\n",
       "      <td>1725.55230</td>\n",
       "    </tr>\n",
       "    <tr>\n",
       "      <th>2</th>\n",
       "      <td>28</td>\n",
       "      <td>male</td>\n",
       "      <td>33.000</td>\n",
       "      <td>3</td>\n",
       "      <td>no</td>\n",
       "      <td>southeast</td>\n",
       "      <td>4449.46200</td>\n",
       "    </tr>\n",
       "    <tr>\n",
       "      <th>3</th>\n",
       "      <td>33</td>\n",
       "      <td>male</td>\n",
       "      <td>22.705</td>\n",
       "      <td>0</td>\n",
       "      <td>no</td>\n",
       "      <td>northwest</td>\n",
       "      <td>21984.47061</td>\n",
       "    </tr>\n",
       "    <tr>\n",
       "      <th>4</th>\n",
       "      <td>32</td>\n",
       "      <td>male</td>\n",
       "      <td>28.880</td>\n",
       "      <td>0</td>\n",
       "      <td>no</td>\n",
       "      <td>northwest</td>\n",
       "      <td>3866.85520</td>\n",
       "    </tr>\n",
       "  </tbody>\n",
       "</table>\n",
       "</div>"
      ],
      "text/plain": [
       "   age     sex     bmi  children smoker     region      charges\n",
       "0   19  female  27.900         0    yes  southwest  16884.92400\n",
       "1   18    male  33.770         1     no  southeast   1725.55230\n",
       "2   28    male  33.000         3     no  southeast   4449.46200\n",
       "3   33    male  22.705         0     no  northwest  21984.47061\n",
       "4   32    male  28.880         0     no  northwest   3866.85520"
      ]
     },
     "execution_count": 13,
     "metadata": {},
     "output_type": "execute_result"
    }
   ],
   "source": [
    "# Display the first few rows of the dataframe to understand its structure and contents\n",
    "df_insurance.head()"
   ]
  },
  {
   "cell_type": "code",
   "execution_count": 14,
   "id": "7c8407c8-1e21-412d-94cb-6fdd9797f2b6",
   "metadata": {},
   "outputs": [
    {
     "name": "stdout",
     "output_type": "stream",
     "text": [
      "<class 'pandas.core.frame.DataFrame'>\n",
      "RangeIndex: 1338 entries, 0 to 1337\n",
      "Data columns (total 7 columns):\n",
      " #   Column    Non-Null Count  Dtype  \n",
      "---  ------    --------------  -----  \n",
      " 0   age       1338 non-null   int64  \n",
      " 1   sex       1338 non-null   object \n",
      " 2   bmi       1338 non-null   float64\n",
      " 3   children  1338 non-null   int64  \n",
      " 4   smoker    1338 non-null   object \n",
      " 5   region    1338 non-null   object \n",
      " 6   charges   1338 non-null   float64\n",
      "dtypes: float64(2), int64(2), object(3)\n",
      "memory usage: 73.3+ KB\n"
     ]
    }
   ],
   "source": [
    "df_insurance.info()"
   ]
  },
  {
   "cell_type": "markdown",
   "id": "911cef51-1cce-4d36-8261-4fa1347e29dd",
   "metadata": {},
   "source": [
    "# Data cleaning"
   ]
  },
  {
   "cell_type": "code",
   "execution_count": 15,
   "id": "503ed7eb-b3e3-4d27-aa1b-f86a28df77b6",
   "metadata": {},
   "outputs": [],
   "source": [
    "#Check for Duplicate values\n",
    "duplicate_rows = df_insurance.duplicated().sum()"
   ]
  },
  {
   "cell_type": "code",
   "execution_count": 16,
   "id": "93b87ecd-7f59-445b-a56d-d990e2cd2bcd",
   "metadata": {},
   "outputs": [
    {
     "name": "stdout",
     "output_type": "stream",
     "text": [
      "Number of duplicate rows: 1\n"
     ]
    }
   ],
   "source": [
    "print(f\"Number of duplicate rows: {duplicate_rows}\")"
   ]
  },
  {
   "cell_type": "code",
   "execution_count": 20,
   "id": "a4192882-33a2-4c9e-87c5-e447f54bd6e7",
   "metadata": {},
   "outputs": [],
   "source": [
    "#Dropping duplicate value\n",
    "df_insurance.drop_duplicates(inplace=True)"
   ]
  },
  {
   "cell_type": "code",
   "execution_count": 21,
   "id": "7a6be61b-f865-4af5-9af6-d8fc77a78ff2",
   "metadata": {},
   "outputs": [
    {
     "name": "stdout",
     "output_type": "stream",
     "text": [
      "<class 'pandas.core.frame.DataFrame'>\n",
      "Index: 1337 entries, 0 to 1337\n",
      "Data columns (total 7 columns):\n",
      " #   Column    Non-Null Count  Dtype  \n",
      "---  ------    --------------  -----  \n",
      " 0   age       1337 non-null   int64  \n",
      " 1   sex       1337 non-null   object \n",
      " 2   bmi       1337 non-null   float64\n",
      " 3   children  1337 non-null   int64  \n",
      " 4   smoker    1337 non-null   object \n",
      " 5   region    1337 non-null   object \n",
      " 6   charges   1337 non-null   float64\n",
      "dtypes: float64(2), int64(2), object(3)\n",
      "memory usage: 83.6+ KB\n"
     ]
    }
   ],
   "source": [
    "df_insurance.info()"
   ]
  },
  {
   "cell_type": "markdown",
   "id": "90964bc2-3c2d-4849-ad03-d9d86afeaf51",
   "metadata": {},
   "source": [
    "The dataset now consists of 1337 entries, indicating that the duplicate row has been successfully removed.With duplicates removed, each data point in the dataset represents a unique insurance record, making subsequent analyses more reliable."
   ]
  },
  {
   "cell_type": "code",
   "execution_count": 23,
   "id": "1fc1a7b3-0f62-4e7c-9cbc-dba391673e93",
   "metadata": {},
   "outputs": [
    {
     "name": "stdout",
     "output_type": "stream",
     "text": [
      "age         0\n",
      "sex         0\n",
      "bmi         0\n",
      "children    0\n",
      "smoker      0\n",
      "region      0\n",
      "charges     0\n",
      "dtype: int64\n"
     ]
    }
   ],
   "source": [
    "#Finding missing values\n",
    "missing_values = df_insurance.isnull().sum()\n",
    "print(missing_values)"
   ]
  },
  {
   "cell_type": "markdown",
   "id": "a7b5efcd-f73e-46bd-9eee-3b7001123bfd",
   "metadata": {},
   "source": [
    "No missing values were found in any of the columns.The absence of missing values suggests that the dataset is complete, which simplifies the preparation process for analysis, as no imputation or removal of missing data is necessary."
   ]
  },
  {
   "cell_type": "code",
   "execution_count": 25,
   "id": "bc9ff0a7-f19a-43d7-bc0f-94809d0e803e",
   "metadata": {},
   "outputs": [
    {
     "name": "stdout",
     "output_type": "stream",
     "text": [
      "age           int64\n",
      "sex          object\n",
      "bmi         float64\n",
      "children      int64\n",
      "smoker       object\n",
      "region       object\n",
      "charges     float64\n",
      "dtype: object\n"
     ]
    }
   ],
   "source": [
    "#Verifying Data types\n",
    "print(df_insurance.dtypes)"
   ]
  },
  {
   "cell_type": "markdown",
   "id": "a248501e-c16d-411a-96a9-8d1db5894a5f",
   "metadata": {},
   "source": [
    "Data types are appropriate for each column, with numerical columns (age, bmi, children, charges) correctly typed for mathematical operations and categorical columns (sex, smoker, region) as objects, suitable for categorization."
   ]
  },
  {
   "cell_type": "code",
   "execution_count": 26,
   "id": "2974bcf6-497b-4ede-af2b-55325a6adfec",
   "metadata": {
    "scrolled": true
   },
   "outputs": [
    {
     "data": {
      "image/png": "[encoded data removed]",
      "text/plain": [
       "<Figure size 640x480 with 1 Axes>"
      ]
     },
     "metadata": {},
     "output_type": "display_data"
    }
   ],
   "source": [
    "# Checking for outliers\n",
    "import matplotlib.pyplot as plt\n",
    "df_insurance[['bmi', 'charges']].boxplot()\n",
    "plt.show()"
   ]
  },
  {
   "cell_type": "markdown",
   "id": "aad6b0e5-0b6d-478f-80fc-1cfa08b0ca9d",
   "metadata": {},
   "source": [
    "The bmi box plot displayed a few extreme values, but these were not numerous enough to cause concern.\n",
    "The charges box plot showed a significant number of high-value outliers, indicating substantial variance in insurance charges among the population. This variation could be key to understanding factors affecting healthcare costs."
   ]
  },
  {
   "cell_type": "code",
   "execution_count": 27,
   "id": "b5d5795b-c02a-41c3-856c-517614fa417a",
   "metadata": {},
   "outputs": [],
   "source": [
    "#Normalizing the text \n",
    "df_insurance['sex'] = df_insurance['sex'].str.lower()\n",
    "df_insurance['smoker'] = df_insurance['smoker'].str.lower()\n",
    "df_insurance['region'] = df_insurance['region'].str.lower()"
   ]
  },
  {
   "cell_type": "markdown",
   "id": "53597072-34c1-4816-91bd-f2b0ca77b619",
   "metadata": {},
   "source": [
    "Text data in categorical columns (sex, smoker, region) was normalized to lowercase to maintain consistency and avoid any misclassification due to text case differences."
   ]
  },
  {
   "cell_type": "markdown",
   "id": "51c93620-70b2-4c26-bd29-0b00dfdff96c",
   "metadata": {},
   "source": [
    "# Descriptive statistics"
   ]
  },
  {
   "cell_type": "code",
   "execution_count": 28,
   "id": "2d22e29a-a787-4b74-be3f-3b501b277619",
   "metadata": {},
   "outputs": [],
   "source": [
    "# Getting a descriptive statistical summary of the numerical variables\n",
    "numerical_summary = df_insurance.describe()"
   ]
  },
  {
   "cell_type": "code",
   "execution_count": 29,
   "id": "5a87cb02-d34b-41ff-b1ad-78e64e773f89",
   "metadata": {},
   "outputs": [],
   "source": [
    "# Reviewing the categorical variables\n",
    "categorical_summary = df_insurance.describe(include=['object'])"
   ]
  },
  {
   "cell_type": "code",
   "execution_count": 30,
   "id": "8648c8a6-509d-4eee-80c2-c4625889237c",
   "metadata": {},
   "outputs": [
    {
     "data": {
      "text/plain": [
       "(               age          bmi     children       charges\n",
       " count  1337.000000  1337.000000  1337.000000   1337.000000\n",
       " mean     39.222139    30.663452     1.095737  13279.121487\n",
       " std      14.044333     6.100468     1.205571  12110.359656\n",
       " min      18.000000    15.960000     0.000000   1121.873900\n",
       " 25%      27.000000    26.290000     0.000000   4746.344000\n",
       " 50%      39.000000    30.400000     1.000000   9386.161300\n",
       " 75%      51.000000    34.700000     2.000000  16657.717450\n",
       " max      64.000000    53.130000     5.000000  63770.428010,\n",
       "          sex smoker     region\n",
       " count   1337   1337       1337\n",
       " unique     2      2          4\n",
       " top     male     no  southeast\n",
       " freq     675   1063        364)"
      ]
     },
     "execution_count": 30,
     "metadata": {},
     "output_type": "execute_result"
    }
   ],
   "source": [
    "# Displaying the statistical summaries\n",
    "numerical_summary, categorical_summary"
   ]
  },
  {
   "cell_type": "markdown",
   "id": "d6d95ab7-95e3-4ad1-90ae-d6ab022ec9a8",
   "metadata": {},
   "source": [
    "# Exporting cleaned data set"
   ]
  },
  {
   "cell_type": "code",
   "execution_count": 35,
   "id": "3ba246cd-b56b-44ba-9f03-8b8a60555efd",
   "metadata": {},
   "outputs": [],
   "source": [
    "df_insurance.to_csv(os.path.join(path,'insurance_cleaned.csv'))"
   ]
  }
 ],
 "metadata": {
  "kernelspec": {
   "display_name": "Python 3 (ipykernel)",
   "language": "python",
   "name": "python3"
  },
  "language_info": {
   "codemirror_mode": {
    "name": "ipython",
    "version": 3
   },
   "file_extension": ".py",
   "mimetype": "text/x-python",
   "name": "python",
   "nbconvert_exporter": "python",
   "pygments_lexer": "ipython3",
   "version": "3.11.7"
  }
 },
 "nbformat": 4,
 "nbformat_minor": 5
}
